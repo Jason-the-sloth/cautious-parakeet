{
 "cells": [
  {
   "cell_type": "code",
   "execution_count": 22,
   "metadata": {},
   "outputs": [
    {
     "name": "stdout",
     "output_type": "stream",
     "text": [
      "Requirement already satisfied: torch in d:\\apps\\miniconda3\\lib\\site-packages (2.4.0)\n",
      "Requirement already satisfied: filelock in d:\\apps\\miniconda3\\lib\\site-packages (from torch) (3.15.4)\n",
      "Requirement already satisfied: typing-extensions>=4.8.0 in d:\\apps\\miniconda3\\lib\\site-packages (from torch) (4.12.2)\n",
      "Requirement already satisfied: sympy in d:\\apps\\miniconda3\\lib\\site-packages (from torch) (1.13.1)\n",
      "Requirement already satisfied: networkx in d:\\apps\\miniconda3\\lib\\site-packages (from torch) (3.3)\n",
      "Requirement already satisfied: jinja2 in d:\\apps\\miniconda3\\lib\\site-packages (from torch) (3.1.4)\n",
      "Requirement already satisfied: fsspec in d:\\apps\\miniconda3\\lib\\site-packages (from torch) (2024.6.1)\n",
      "Requirement already satisfied: setuptools in d:\\apps\\miniconda3\\lib\\site-packages (from torch) (69.5.1)\n",
      "Requirement already satisfied: MarkupSafe>=2.0 in d:\\apps\\miniconda3\\lib\\site-packages (from jinja2->torch) (2.1.5)\n",
      "Requirement already satisfied: mpmath<1.4,>=1.1.0 in d:\\apps\\miniconda3\\lib\\site-packages (from sympy->torch) (1.3.0)\n",
      "Note: you may need to restart the kernel to use updated packages.\n",
      "Requirement already satisfied: numpy in d:\\apps\\miniconda3\\lib\\site-packages (2.0.1)\n",
      "Note: you may need to restart the kernel to use updated packages.\n",
      "Requirement already satisfied: pandas in d:\\apps\\miniconda3\\lib\\site-packages (2.2.2)\n",
      "Requirement already satisfied: numpy>=1.26.0 in d:\\apps\\miniconda3\\lib\\site-packages (from pandas) (2.0.1)\n",
      "Requirement already satisfied: python-dateutil>=2.8.2 in d:\\apps\\miniconda3\\lib\\site-packages (from pandas) (2.9.0)\n",
      "Requirement already satisfied: pytz>=2020.1 in d:\\apps\\miniconda3\\lib\\site-packages (from pandas) (2024.1)\n",
      "Requirement already satisfied: tzdata>=2022.7 in d:\\apps\\miniconda3\\lib\\site-packages (from pandas) (2024.1)\n",
      "Requirement already satisfied: six>=1.5 in d:\\apps\\miniconda3\\lib\\site-packages (from python-dateutil>=2.8.2->pandas) (1.16.0)\n",
      "Note: you may need to restart the kernel to use updated packages.\n",
      "Requirement already satisfied: openpyxl in d:\\apps\\miniconda3\\lib\\site-packages (3.1.5)\n",
      "Requirement already satisfied: et-xmlfile in d:\\apps\\miniconda3\\lib\\site-packages (from openpyxl) (1.1.0)\n",
      "Note: you may need to restart the kernel to use updated packages.\n",
      "Requirement already satisfied: onnx in d:\\apps\\miniconda3\\lib\\site-packages (1.16.2)\n",
      "Requirement already satisfied: numpy>=1.20 in d:\\apps\\miniconda3\\lib\\site-packages (from onnx) (2.0.1)\n",
      "Requirement already satisfied: protobuf>=3.20.2 in d:\\apps\\miniconda3\\lib\\site-packages (from onnx) (5.27.3)\n",
      "Note: you may need to restart the kernel to use updated packages.\n",
      "Requirement already satisfied: onnxscript in d:\\apps\\miniconda3\\lib\\site-packages (0.1.0.dev20240802)\n",
      "Requirement already satisfied: numpy in d:\\apps\\miniconda3\\lib\\site-packages (from onnxscript) (2.0.1)\n",
      "Requirement already satisfied: onnx>=1.16 in d:\\apps\\miniconda3\\lib\\site-packages (from onnxscript) (1.16.2)\n",
      "Requirement already satisfied: typing-extensions in d:\\apps\\miniconda3\\lib\\site-packages (from onnxscript) (4.12.2)\n",
      "Requirement already satisfied: ml-dtypes in d:\\apps\\miniconda3\\lib\\site-packages (from onnxscript) (0.4.0)\n",
      "Requirement already satisfied: protobuf>=3.20.2 in d:\\apps\\miniconda3\\lib\\site-packages (from onnx>=1.16->onnxscript) (5.27.3)\n",
      "Note: you may need to restart the kernel to use updated packages.\n"
     ]
    }
   ],
   "source": [
    "%pip install torch\n",
    "%pip install numpy\n",
    "%pip install pandas\n",
    "%pip install openpyxl\n",
    "%pip install onnx\n",
    "%pip install onnxscript"
   ]
  },
  {
   "cell_type": "markdown",
   "metadata": {},
   "source": [
    "Read raw data"
   ]
  },
  {
   "cell_type": "code",
   "execution_count": 23,
   "metadata": {},
   "outputs": [],
   "source": [
    "import json\n",
    "import pandas as pd\n",
    "import torch\n",
    "import torch.nn as nn\n",
    "import torch.optim as optim\n",
    "import numpy as np"
   ]
  },
  {
   "cell_type": "code",
   "execution_count": 24,
   "metadata": {},
   "outputs": [
    {
     "name": "stderr",
     "output_type": "stream",
     "text": [
      "<>:1: SyntaxWarning: invalid escape sequence '\\e'\n",
      "<>:1: SyntaxWarning: invalid escape sequence '\\e'\n",
      "C:\\Users\\tiyani.mabunda\\AppData\\Local\\Temp\\ipykernel_18952\\181927427.py:1: SyntaxWarning: invalid escape sequence '\\e'\n",
      "  rawData = pd.read_excel('D:\\external-projects\\cautious-parakeet\\Controller\\Control\\data.xlsx', header=None, names=['Id', 'BotInput', 'BotCommand'])\n"
     ]
    }
   ],
   "source": [
    "rawData = pd.read_excel('D:\\external-projects\\cautious-parakeet\\Controller\\Control\\data.xlsx', header=None, names=['Id', 'BotInput', 'BotCommand'])\n"
   ]
  },
  {
   "cell_type": "markdown",
   "metadata": {},
   "source": [
    "Data visualization "
   ]
  },
  {
   "cell_type": "markdown",
   "metadata": {},
   "source": [
    "Clean data"
   ]
  },
  {
   "cell_type": "code",
   "execution_count": 25,
   "metadata": {},
   "outputs": [],
   "source": [
    "\n",
    "\n",
    "def preprocess_botcommand(data):\n",
    " \n",
    "\n",
    "  data_list = []\n",
    "  for item in data:\n",
    "    # Extract numerical features\n",
    "    parsed_data = json.loads(item)\n",
    "\n",
    "    move_x = parsed_data['Move']['X']\n",
    "    move_y = parsed_data['Move']['Y']\n",
    "    rotate = parsed_data['Rotate']\n",
    "    shoot =  parsed_data['Shoot']\n",
    "    # Create feature vector\n",
    "    feature_vector = [move_x, move_y, rotate,shoot] \n",
    "    data_list.append(feature_vector)\n",
    "\n",
    "  df = pd.DataFrame(data_list, columns=['Move_X', 'Move_Y', 'Rotate','Shoot']) \n",
    "  return df\n",
    "def preprocess_botinput(input) :\n",
    "\n",
    "  \n",
    "  parsed_data = json.loads(input)\n",
    "  player_x = parsed_data['Player']['Position']['X']\n",
    "  player_y = parsed_data['Player']['Position']['Y']\n",
    "  player_velocity = parsed_data['Player']['Velocity']['SqrMagnitude']\n",
    "  player_rotation = parsed_data['Player']['Health']\n",
    "  player_health = parsed_data['Player']['Health']\n",
    "  player_score = parsed_data['Player']['Score']\n",
    "  feature_vector = [player_x, player_y, player_velocity,player_rotation,player_health,player_score]  \n",
    "  \n",
    "\n",
    "  #df = pd.DataFrame([feature_vector], columns=['Player_X', 'Player_Y', 'Player_Velocity','Player_Rotation','Player_Health','Player_Score'])\n",
    "  return torch.tensor(feature_vector, dtype=torch.float32)"
   ]
  },
  {
   "cell_type": "code",
   "execution_count": 26,
   "metadata": {},
   "outputs": [],
   "source": [
    "labels = preprocess_botcommand(rawData[\"BotCommand\"])\n",
    "#features = preprocess_botinput(rawData[\"BotInput\"]).values\n"
   ]
  },
  {
   "cell_type": "markdown",
   "metadata": {},
   "source": [
    "Model definition"
   ]
  },
  {
   "cell_type": "code",
   "execution_count": 27,
   "metadata": {},
   "outputs": [],
   "source": [
    "\n",
    "\n",
    "def bot_command_builder(move,rotate,shoot):\n",
    "  \n",
    "  command = {\n",
    "    \"Move\": \n",
    "    {\n",
    "      \"X\": move[0].item(),\n",
    "      \"Y\": move[1].item(),\n",
    "      \"SqrMagnitude\": 0.0\n",
    "    },\n",
    "    \"Rotate\": rotate.item(),\n",
    "    \"Shoot\": shoot[0].item() > 0.5\n",
    "  }\n",
    "  \n",
    "  return command\n",
    "\n",
    "class BotModel(nn.Module):\n",
    "    def __init__(self, input_size, hidden_size, output_size_move, output_size_rotate):\n",
    "        super(BotModel, self).__init__()\n",
    "        self.fc1 = nn.Linear(input_size, hidden_size)\n",
    "        self.fc2_move = nn.Linear(hidden_size, output_size_move)\n",
    "        self.fc2_rotate = nn.Linear(hidden_size, output_size_rotate)\n",
    "        self.fc2_shoot = nn.Linear(hidden_size, 1)  # For classification\n",
    "\n",
    "    def forward(self, x):\n",
    "        \n",
    "        x = torch.relu(self.fc1(x))\n",
    "        move = self.fc2_move(x)\n",
    "        rotate = self.fc2_rotate(x)\n",
    "        shoot = torch.sigmoid(self.fc2_shoot(x))  # For classification\n",
    "        #command = bot_command_builder(move, rotate, shoot)\n",
    "        return move , rotate , shoot"
   ]
  },
  {
   "cell_type": "markdown",
   "metadata": {},
   "source": [
    "Training "
   ]
  },
  {
   "cell_type": "code",
   "execution_count": 28,
   "metadata": {},
   "outputs": [],
   "source": [
    "input_size = 6  # Replace with actual input size\n",
    "hidden_size = 64\n",
    "output_size_move = 2\n",
    "output_size_rotate = 1\n",
    "num_epochs = 20\n",
    "learning_rate = 0.001"
   ]
  },
  {
   "cell_type": "code",
   "execution_count": 29,
   "metadata": {},
   "outputs": [],
   "source": [
    "def to_tensor(data , dtype = torch.float32):\n",
    "    return torch.tensor(data,dtype=dtype)\n",
    "    \n",
    "def train(model, X,x_move,y_move, rotate, shoot, num_epochs, learning_rate):\n",
    "    model.train()\n",
    "    optimizer = optim.Adam(model.parameters(), lr=learning_rate)\n",
    "    loss_fn = nn.MSELoss()\n",
    "    loss_fn_shoot = nn.BCELoss()\n",
    "\n",
    "    for epoch in range(num_epochs):\n",
    "        for i in range(len(X)):\n",
    "            optimizer.zero_grad()\n",
    "            move_pred , rotate_pred , shoot_pred = model(X[i]) \n",
    "            loss_move= loss_fn(move_pred, torch.tensor([x_move[i] , y_move[i]],dtype=torch.float32))\n",
    "            loss_rotate = loss_fn(rotate_pred ,rotate[i])\n",
    "            loss_shoot = loss_fn_shoot( shoot_pred[0] , shoot[i] )  # Convert to float for BCELoss\n",
    "            loss =   loss_shoot + loss_rotate +loss_move\n",
    "            loss.backward()\n",
    "            optimizer.step()"
   ]
  },
  {
   "cell_type": "code",
   "execution_count": 30,
   "metadata": {},
   "outputs": [
    {
     "name": "stderr",
     "output_type": "stream",
     "text": [
      "d:\\apps\\miniconda3\\Lib\\site-packages\\torch\\nn\\modules\\loss.py:538: UserWarning: Using a target size (torch.Size([])) that is different to the input size (torch.Size([1])). This will likely lead to incorrect results due to broadcasting. Please ensure they have the same size.\n",
      "  return F.mse_loss(input, target, reduction=self.reduction)\n"
     ]
    }
   ],
   "source": [
    "model_data = rawData[\"BotInput\"].apply(preprocess_botinput)\n",
    "\n",
    "x_move = torch.tensor(labels['Move_X'], dtype=torch.float32)\n",
    "y_move = torch.tensor(labels['Move_Y'], dtype=torch.float32)\n",
    "\n",
    "rotate = torch.tensor(labels['Rotate'], dtype=torch.float32)\n",
    "shoot = torch.tensor(labels['Shoot'], dtype=torch.float32)\n",
    "model = BotModel(input_size, hidden_size, output_size_move, output_size_rotate)\n",
    "\n",
    "train(model, model_data.values, x_move,y_move, rotate, shoot, num_epochs, learning_rate)\n"
   ]
  },
  {
   "cell_type": "code",
   "execution_count": null,
   "metadata": {},
   "outputs": [],
   "source": []
  },
  {
   "cell_type": "code",
   "execution_count": 31,
   "metadata": {},
   "outputs": [
    {
     "name": "stderr",
     "output_type": "stream",
     "text": [
      "d:\\apps\\miniconda3\\Lib\\site-packages\\torch\\onnx\\_internal\\exporter.py:137: UserWarning: torch.onnx.dynamo_export only implements opset version 18 for now. If you need to use a different opset version, please register them with register_custom_op.\n",
      "  warnings.warn(\n"
     ]
    },
    {
     "name": "stdout",
     "output_type": "stream",
     "text": [
      "Applied 4 of general pattern rewrite rules.\n"
     ]
    }
   ],
   "source": [
    "onnx_program = torch.onnx.dynamo_export(model, model_data.values[0])\n",
    " \n",
    "onnx_program.save(\"bot.onnx\")"
   ]
  },
  {
   "cell_type": "markdown",
   "metadata": {},
   "source": [
    "Evaluations"
   ]
  }
 ],
 "metadata": {
  "kernelspec": {
   "display_name": "base",
   "language": "python",
   "name": "python3"
  },
  "language_info": {
   "codemirror_mode": {
    "name": "ipython",
    "version": 3
   },
   "file_extension": ".py",
   "mimetype": "text/x-python",
   "name": "python",
   "nbconvert_exporter": "python",
   "pygments_lexer": "ipython3",
   "version": "3.12.3"
  }
 },
 "nbformat": 4,
 "nbformat_minor": 2
}
